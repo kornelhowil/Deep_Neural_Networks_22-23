{
 "cells": [
  {
   "cell_type": "markdown",
   "metadata": {
    "id": "MxW4dJFDfX_a"
   },
   "source": [
    "<center><img src='https://drive.google.com/uc?id=1_utx_ZGclmCwNttSe40kYA6VHzNocdET' height=\"60\"></center>\n",
    "\n",
    "AI TECH - Akademia Innowacyjnych Zastosowań Technologii Cyfrowych. Program Operacyjny Polska Cyfrowa na lata 2014-2020\n",
    "<hr>\n",
    "\n",
    "<center><img src='https://drive.google.com/uc?id=1BXZ0u3562N_MqCLcekI-Ens77Kk4LpPm'></center>\n",
    "\n",
    "<center>\n",
    "Projekt współfinansowany ze środków Unii Europejskiej w ramach Europejskiego Funduszu Rozwoju Regionalnego \n",
    "Program Operacyjny Polska Cyfrowa na lata 2014-2020,\n",
    "Oś Priorytetowa nr 3 \"Cyfrowe kompetencje społeczeństwa\" Działanie  nr 3.2 \"Innowacyjne rozwiązania na rzecz aktywizacji cyfrowej\" \n",
    "Tytuł projektu:  „Akademia Innowacyjnych Zastosowań Technologii Cyfrowych (AI Tech)”\n",
    "    </center>"
   ]
  },
  {
   "cell_type": "markdown",
   "metadata": {
    "id": "gcTwzhX8fBqs"
   },
   "source": [
    "Code based on https://github.com/pytorch/examples/blob/master/mnist/main.py\n",
    "\n",
    "In this exercise we are using high level abstractions from torch.nn like nn.Linear.\n",
    "Note: during the next lab session we will go one level deeper and implement more things\n",
    "with bare hands.\n",
    "\n",
    "Tasks:\n",
    "\n",
    "    1. Read the code.\n",
    "\n",
    "    2. Check that the given implementation reaches 95% test accuracy for architecture input-128-128-10 after few epochs.\n",
    "\n",
    "    3. Add the option to use SGD with momentum instead of ADAM.\n",
    "\n",
    "    4. Experiment with different learning rates, plot the learning curves for different\n",
    "    learning rates for both ADAM and SGD with momentum.\n",
    "\n",
    "    5. Parameterize the constructor by a list of sizes of hidden layers of the MLP.\n",
    "    Note that this requires creating a list of layers as an atribute of the Net class,\n",
    "    and one can't use a standard python list containing nn.Modules (why?).\n",
    "    Check torch.nn.ModuleList.\n"
   ]
  },
  {
   "cell_type": "code",
   "execution_count": 3,
   "metadata": {
    "id": "IYAsziKffBFV"
   },
   "outputs": [],
   "source": [
    "import torch\n",
    "import torch.nn as nn\n",
    "import torch.nn.functional as F\n",
    "import torch.optim as optim\n",
    "from torchvision import datasets, transforms"
   ]
  },
  {
   "cell_type": "code",
   "execution_count": 4,
   "metadata": {
    "id": "DMtap4QCfBH8"
   },
   "outputs": [],
   "source": [
    "class Net(nn.Module):\n",
    "    def __init__(self, sizes):\n",
    "        super(Net, self).__init__()\n",
    "        self.sizes = sizes\n",
    "        self.fc = nn.ModuleList(\n",
    "            [nn.Linear(sizes[i-1],sizes[i]) for i in range(1, len(sizes))]\n",
    "        )\n",
    "\n",
    "    def forward(self, x):\n",
    "        x = torch.flatten(x, 1)\n",
    "        for fc in self.fc:\n",
    "            a = fc(x)\n",
    "            x = F.relu(a)\n",
    "        output = F.log_softmax(a, dim=1)\n",
    "        return output\n",
    "\n",
    "\n",
    "def train(model, device, train_loader, optimizer, epoch, log_interval):\n",
    "    model.train()\n",
    "    for batch_idx, (data, target) in enumerate(train_loader):\n",
    "        data, target = data.to(device), target.to(device)\n",
    "        optimizer.zero_grad()\n",
    "        output = model(data)\n",
    "        loss = F.nll_loss(output, target)\n",
    "        loss.backward()\n",
    "        optimizer.step()\n",
    "        if batch_idx % log_interval == 0:\n",
    "            print('Train Epoch: {} [{}/{} ({:.0f}%)]\\tLoss: {:.6f}'.format(\n",
    "                epoch, batch_idx * len(data), len(train_loader.dataset),\n",
    "                100. * batch_idx / len(train_loader), loss.item()))\n",
    "\n",
    "\n",
    "def test(model, device, test_loader):\n",
    "    model.eval()\n",
    "    test_loss = 0\n",
    "    correct = 0\n",
    "    with torch.no_grad():\n",
    "        for data, target in test_loader:\n",
    "            data, target = data.to(device), target.to(device)\n",
    "            output = model(data)\n",
    "            test_loss += F.nll_loss(output, target, reduction='sum').item()  # sum up batch loss\n",
    "            pred = output.argmax(dim=1, keepdim=True)  # get the index of the max log-probability\n",
    "            correct += pred.eq(target.view_as(pred)).sum().item()\n",
    "\n",
    "    test_loss /= len(test_loader.dataset)\n",
    "\n",
    "    print('\\nTest set: Average loss: {:.4f}, Accuracy: {}/{} ({:.0f}%)\\n'.format(\n",
    "        test_loss, correct, len(test_loader.dataset),\n",
    "        100. * correct / len(test_loader.dataset)))\n",
    "\n"
   ]
  },
  {
   "cell_type": "code",
   "execution_count": 5,
   "metadata": {
    "id": "K5GlMs1-fBKP"
   },
   "outputs": [],
   "source": [
    "batch_size = 256\n",
    "test_batch_size = 1000\n",
    "epochs = 5\n",
    "lr = 1e-2\n",
    "use_cuda = False\n",
    "seed = 1\n",
    "log_interval = 10"
   ]
  },
  {
   "cell_type": "code",
   "execution_count": 6,
   "metadata": {
    "id": "WgfUP23AfBMd"
   },
   "outputs": [],
   "source": [
    "use_cuda = not use_cuda and torch.cuda.is_available()\n",
    "\n",
    "torch.manual_seed(seed)\n",
    "device = torch.device(\"cuda\" if use_cuda else \"cpu\")\n",
    "\n",
    "train_kwargs = {'batch_size': batch_size}\n",
    "test_kwargs = {'batch_size': test_batch_size}\n",
    "if use_cuda:\n",
    "    cuda_kwargs = {'num_workers': 1,\n",
    "                    'pin_memory': True,\n",
    "                    'shuffle': True}\n",
    "    train_kwargs.update(cuda_kwargs)\n",
    "    test_kwargs.update(cuda_kwargs)"
   ]
  },
  {
   "cell_type": "code",
   "execution_count": 7,
   "metadata": {
    "colab": {
     "base_uri": "https://localhost:8080/"
    },
    "id": "o0KPoUtsfBOs",
    "outputId": "4ee308b0-0aac-4d3c-f372-352f28970104"
   },
   "outputs": [],
   "source": [
    "transform=transforms.Compose([\n",
    "    transforms.ToTensor(),\n",
    "    transforms.Normalize((0.1307,), (0.3081,))\n",
    "    ])\n",
    "dataset1 = datasets.MNIST('../data', train=True, download=True,\n",
    "                    transform=transform)\n",
    "dataset2 = datasets.MNIST('../data', train=False,\n",
    "                    transform=transform)\n",
    "train_loader = torch.utils.data.DataLoader(dataset1,**train_kwargs)\n",
    "test_loader = torch.utils.data.DataLoader(dataset2, **test_kwargs)"
   ]
  },
  {
   "cell_type": "code",
   "execution_count": 8,
   "metadata": {
    "colab": {
     "base_uri": "https://localhost:8080/"
    },
    "id": "ezvIQbgsfBRT",
    "outputId": "3f6621ef-0bad-46c6-bd8f-ac535db8e9af"
   },
   "outputs": [
    {
     "name": "stdout",
     "output_type": "stream",
     "text": [
      "Train Epoch: 1 [0/60000 (0%)]\tLoss: 2.313259\n",
      "Train Epoch: 1 [2560/60000 (4%)]\tLoss: 0.732760\n",
      "Train Epoch: 1 [5120/60000 (9%)]\tLoss: 0.582762\n",
      "Train Epoch: 1 [7680/60000 (13%)]\tLoss: 0.481087\n",
      "Train Epoch: 1 [10240/60000 (17%)]\tLoss: 0.334523\n",
      "Train Epoch: 1 [12800/60000 (21%)]\tLoss: 0.346265\n",
      "Train Epoch: 1 [15360/60000 (26%)]\tLoss: 0.229349\n",
      "Train Epoch: 1 [17920/60000 (30%)]\tLoss: 0.191099\n",
      "Train Epoch: 1 [20480/60000 (34%)]\tLoss: 0.224889\n",
      "Train Epoch: 1 [23040/60000 (38%)]\tLoss: 0.244065\n",
      "Train Epoch: 1 [25600/60000 (43%)]\tLoss: 0.236049\n",
      "Train Epoch: 1 [28160/60000 (47%)]\tLoss: 0.241033\n",
      "Train Epoch: 1 [30720/60000 (51%)]\tLoss: 0.194208\n",
      "Train Epoch: 1 [33280/60000 (55%)]\tLoss: 0.302404\n",
      "Train Epoch: 1 [35840/60000 (60%)]\tLoss: 0.203934\n",
      "Train Epoch: 1 [38400/60000 (64%)]\tLoss: 0.192444\n",
      "Train Epoch: 1 [40960/60000 (68%)]\tLoss: 0.173173\n",
      "Train Epoch: 1 [43520/60000 (72%)]\tLoss: 0.140804\n",
      "Train Epoch: 1 [46080/60000 (77%)]\tLoss: 0.356526\n",
      "Train Epoch: 1 [48640/60000 (81%)]\tLoss: 0.130328\n",
      "Train Epoch: 1 [51200/60000 (85%)]\tLoss: 0.193289\n",
      "Train Epoch: 1 [53760/60000 (89%)]\tLoss: 0.220832\n",
      "Train Epoch: 1 [56320/60000 (94%)]\tLoss: 0.161527\n",
      "Train Epoch: 1 [58880/60000 (98%)]\tLoss: 0.032843\n",
      "\n",
      "Test set: Average loss: 0.2283, Accuracy: 9316/10000 (93%)\n",
      "\n",
      "Train Epoch: 2 [0/60000 (0%)]\tLoss: 0.192632\n",
      "Train Epoch: 2 [2560/60000 (4%)]\tLoss: 0.183039\n",
      "Train Epoch: 2 [5120/60000 (9%)]\tLoss: 0.220678\n",
      "Train Epoch: 2 [7680/60000 (13%)]\tLoss: 0.215039\n",
      "Train Epoch: 2 [10240/60000 (17%)]\tLoss: 0.128095\n",
      "Train Epoch: 2 [12800/60000 (21%)]\tLoss: 0.209937\n",
      "Train Epoch: 2 [15360/60000 (26%)]\tLoss: 0.088785\n",
      "Train Epoch: 2 [17920/60000 (30%)]\tLoss: 0.091198\n",
      "Train Epoch: 2 [20480/60000 (34%)]\tLoss: 0.118966\n",
      "Train Epoch: 2 [23040/60000 (38%)]\tLoss: 0.133735\n",
      "Train Epoch: 2 [25600/60000 (43%)]\tLoss: 0.187271\n",
      "Train Epoch: 2 [28160/60000 (47%)]\tLoss: 0.144008\n",
      "Train Epoch: 2 [30720/60000 (51%)]\tLoss: 0.125592\n",
      "Train Epoch: 2 [33280/60000 (55%)]\tLoss: 0.170875\n",
      "Train Epoch: 2 [35840/60000 (60%)]\tLoss: 0.153214\n",
      "Train Epoch: 2 [38400/60000 (64%)]\tLoss: 0.126695\n",
      "Train Epoch: 2 [40960/60000 (68%)]\tLoss: 0.133954\n",
      "Train Epoch: 2 [43520/60000 (72%)]\tLoss: 0.140262\n",
      "Train Epoch: 2 [46080/60000 (77%)]\tLoss: 0.205591\n",
      "Train Epoch: 2 [48640/60000 (81%)]\tLoss: 0.099342\n",
      "Train Epoch: 2 [51200/60000 (85%)]\tLoss: 0.147448\n",
      "Train Epoch: 2 [53760/60000 (89%)]\tLoss: 0.131340\n",
      "Train Epoch: 2 [56320/60000 (94%)]\tLoss: 0.081053\n",
      "Train Epoch: 2 [58880/60000 (98%)]\tLoss: 0.006582\n",
      "\n",
      "Test set: Average loss: 0.1496, Accuracy: 9577/10000 (96%)\n",
      "\n",
      "Train Epoch: 3 [0/60000 (0%)]\tLoss: 0.150240\n",
      "Train Epoch: 3 [2560/60000 (4%)]\tLoss: 0.185357\n",
      "Train Epoch: 3 [5120/60000 (9%)]\tLoss: 0.157350\n",
      "Train Epoch: 3 [7680/60000 (13%)]\tLoss: 0.147772\n",
      "Train Epoch: 3 [10240/60000 (17%)]\tLoss: 0.072590\n",
      "Train Epoch: 3 [12800/60000 (21%)]\tLoss: 0.134067\n",
      "Train Epoch: 3 [15360/60000 (26%)]\tLoss: 0.076144\n",
      "Train Epoch: 3 [17920/60000 (30%)]\tLoss: 0.068072\n",
      "Train Epoch: 3 [20480/60000 (34%)]\tLoss: 0.104829\n",
      "Train Epoch: 3 [23040/60000 (38%)]\tLoss: 0.083084\n",
      "Train Epoch: 3 [25600/60000 (43%)]\tLoss: 0.137470\n",
      "Train Epoch: 3 [28160/60000 (47%)]\tLoss: 0.093931\n",
      "Train Epoch: 3 [30720/60000 (51%)]\tLoss: 0.097938\n",
      "Train Epoch: 3 [33280/60000 (55%)]\tLoss: 0.156326\n",
      "Train Epoch: 3 [35840/60000 (60%)]\tLoss: 0.087825\n",
      "Train Epoch: 3 [38400/60000 (64%)]\tLoss: 0.106252\n",
      "Train Epoch: 3 [40960/60000 (68%)]\tLoss: 0.143612\n",
      "Train Epoch: 3 [43520/60000 (72%)]\tLoss: 0.111213\n",
      "Train Epoch: 3 [46080/60000 (77%)]\tLoss: 0.162301\n",
      "Train Epoch: 3 [48640/60000 (81%)]\tLoss: 0.051817\n",
      "Train Epoch: 3 [51200/60000 (85%)]\tLoss: 0.195273\n",
      "Train Epoch: 3 [53760/60000 (89%)]\tLoss: 0.123187\n",
      "Train Epoch: 3 [56320/60000 (94%)]\tLoss: 0.107290\n",
      "Train Epoch: 3 [58880/60000 (98%)]\tLoss: 0.006524\n",
      "\n",
      "Test set: Average loss: 0.1319, Accuracy: 9652/10000 (97%)\n",
      "\n",
      "Train Epoch: 4 [0/60000 (0%)]\tLoss: 0.118323\n",
      "Train Epoch: 4 [2560/60000 (4%)]\tLoss: 0.125353\n",
      "Train Epoch: 4 [5120/60000 (9%)]\tLoss: 0.157769\n",
      "Train Epoch: 4 [7680/60000 (13%)]\tLoss: 0.148988\n",
      "Train Epoch: 4 [10240/60000 (17%)]\tLoss: 0.116556\n",
      "Train Epoch: 4 [12800/60000 (21%)]\tLoss: 0.157194\n",
      "Train Epoch: 4 [15360/60000 (26%)]\tLoss: 0.108183\n",
      "Train Epoch: 4 [17920/60000 (30%)]\tLoss: 0.123276\n",
      "Train Epoch: 4 [20480/60000 (34%)]\tLoss: 0.090701\n",
      "Train Epoch: 4 [23040/60000 (38%)]\tLoss: 0.070810\n",
      "Train Epoch: 4 [25600/60000 (43%)]\tLoss: 0.119612\n",
      "Train Epoch: 4 [28160/60000 (47%)]\tLoss: 0.076091\n",
      "Train Epoch: 4 [30720/60000 (51%)]\tLoss: 0.153426\n",
      "Train Epoch: 4 [33280/60000 (55%)]\tLoss: 0.103418\n",
      "Train Epoch: 4 [35840/60000 (60%)]\tLoss: 0.165603\n",
      "Train Epoch: 4 [38400/60000 (64%)]\tLoss: 0.100752\n",
      "Train Epoch: 4 [40960/60000 (68%)]\tLoss: 0.096271\n",
      "Train Epoch: 4 [43520/60000 (72%)]\tLoss: 0.087874\n",
      "Train Epoch: 4 [46080/60000 (77%)]\tLoss: 0.141009\n",
      "Train Epoch: 4 [48640/60000 (81%)]\tLoss: 0.047814\n",
      "Train Epoch: 4 [51200/60000 (85%)]\tLoss: 0.101228\n",
      "Train Epoch: 4 [53760/60000 (89%)]\tLoss: 0.139185\n",
      "Train Epoch: 4 [56320/60000 (94%)]\tLoss: 0.069698\n",
      "Train Epoch: 4 [58880/60000 (98%)]\tLoss: 0.009681\n",
      "\n",
      "Test set: Average loss: 0.1529, Accuracy: 9571/10000 (96%)\n",
      "\n",
      "Train Epoch: 5 [0/60000 (0%)]\tLoss: 0.158960\n",
      "Train Epoch: 5 [2560/60000 (4%)]\tLoss: 0.111519\n",
      "Train Epoch: 5 [5120/60000 (9%)]\tLoss: 0.122959\n",
      "Train Epoch: 5 [7680/60000 (13%)]\tLoss: 0.134342\n",
      "Train Epoch: 5 [10240/60000 (17%)]\tLoss: 0.127302\n",
      "Train Epoch: 5 [12800/60000 (21%)]\tLoss: 0.137644\n",
      "Train Epoch: 5 [15360/60000 (26%)]\tLoss: 0.116400\n",
      "Train Epoch: 5 [17920/60000 (30%)]\tLoss: 0.088817\n",
      "Train Epoch: 5 [20480/60000 (34%)]\tLoss: 0.054613\n",
      "Train Epoch: 5 [23040/60000 (38%)]\tLoss: 0.102880\n",
      "Train Epoch: 5 [25600/60000 (43%)]\tLoss: 0.092841\n",
      "Train Epoch: 5 [28160/60000 (47%)]\tLoss: 0.163738\n",
      "Train Epoch: 5 [30720/60000 (51%)]\tLoss: 0.103108\n",
      "Train Epoch: 5 [33280/60000 (55%)]\tLoss: 0.122237\n",
      "Train Epoch: 5 [35840/60000 (60%)]\tLoss: 0.111446\n",
      "Train Epoch: 5 [38400/60000 (64%)]\tLoss: 0.110370\n",
      "Train Epoch: 5 [40960/60000 (68%)]\tLoss: 0.097936\n",
      "Train Epoch: 5 [43520/60000 (72%)]\tLoss: 0.076297\n",
      "Train Epoch: 5 [46080/60000 (77%)]\tLoss: 0.100466\n",
      "Train Epoch: 5 [48640/60000 (81%)]\tLoss: 0.112919\n",
      "Train Epoch: 5 [51200/60000 (85%)]\tLoss: 0.103904\n",
      "Train Epoch: 5 [53760/60000 (89%)]\tLoss: 0.043811\n",
      "Train Epoch: 5 [56320/60000 (94%)]\tLoss: 0.102380\n",
      "Train Epoch: 5 [58880/60000 (98%)]\tLoss: 0.010809\n",
      "\n",
      "Test set: Average loss: 0.1413, Accuracy: 9632/10000 (96%)\n",
      "\n"
     ]
    }
   ],
   "source": [
    "model = Net([784, 128, 128, 10]).to(device)\n",
    "optimizer = optim.Adam(model.parameters(), lr=lr)\n",
    "\n",
    "for epoch in range(1, epochs + 1):\n",
    "    train(model, device, train_loader, optimizer, epoch, log_interval)\n",
    "    test(model, device, test_loader)"
   ]
  },
  {
   "cell_type": "code",
   "execution_count": null,
   "metadata": {
    "id": "DQMSSwuifBTo"
   },
   "outputs": [],
   "source": []
  },
  {
   "cell_type": "code",
   "execution_count": null,
   "metadata": {
    "id": "JX_2rCycfBWU"
   },
   "outputs": [],
   "source": []
  }
 ],
 "metadata": {
  "colab": {
   "provenance": []
  },
  "kernelspec": {
   "display_name": "Python 3 (ipykernel)",
   "language": "python",
   "name": "python3"
  },
  "language_info": {
   "codemirror_mode": {
    "name": "ipython",
    "version": 3
   },
   "file_extension": ".py",
   "mimetype": "text/x-python",
   "name": "python",
   "nbconvert_exporter": "python",
   "pygments_lexer": "ipython3",
   "version": "3.9.12"
  }
 },
 "nbformat": 4,
 "nbformat_minor": 1
}
