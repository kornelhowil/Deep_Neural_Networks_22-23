{
 "cells": [
  {
   "cell_type": "markdown",
   "metadata": {
    "id": "t8H9fR4U50vT"
   },
   "source": [
    "# Checkpointing\n",
    "\n",
    "Your task is to implement checkpointing for a MLP using NumPy.\n",
    "\n",
    "You are free to use the implementation of a MLP and the backpropagation algorithm that you have developed during lab sessions.\n",
    "\n",
    "The key takeaway from this task is that with checkpointing we can trade off the computational resources needed to compute the forward pass of the network for the memory requirement needed to perform a backward pass in the network, which is often a major bottleneck when training large networks. In plain english, we can slightly increase the time required for training our network to save some of our GPU's precious memory.\n",
    "\n",
    "## What is checkpointing?\n",
    "\n",
    "The aim of checkpointing is to save every $n$-th layer's (e.g. every 2-nd layer's) forward result (instead of saving every layer's forward result as in plain backpropagation) and use these checkpoints for recomputing the forward pass of the network upon doing a backward pass. Checkpoint layers are kept in memory after the forward pass, while the remaining activations are recomputed at most once. After being recomputed, the non-checkpoint layers are kept in memory until they are no longer required."
   ]
  },
  {
   "cell_type": "markdown",
   "metadata": {
    "id": "u41BO5XL50vX"
   },
   "source": [
    "# What should be done\n",
    "\n",
    "1. Take the implementation a MLP trained with backpropagation. Analyze the algorithm with respect to the memory that is used by the algorithm with respect to the number of hidden layers.\n",
    "\n",
    "2. Implement a class NetworkWithCheckpointing that inherits from the Network class defined during lab sessions by:\n",
    "    a) implementing a method `forward_between_checkpoints` that will recompute the forward pass of the network using one of the checkpointed layers\n",
    "    b) override the method `backprop` to use only checkpointed layers and otherwise compute the activations using `forward_between_checkpoints` method and keep it in memory until no longer needed.\n",
    "\n",
    "3. Train your network with checkpoinintg on MNIST. Compare running times and memory usage with respect to the network without checkpointing.\n"
   ]
  },
  {
   "cell_type": "markdown",
   "metadata": {
    "id": "Pv2nTGru50vX"
   },
   "source": [
    "# Implement Checkpointing for a MLP"
   ]
  },
  {
   "cell_type": "code",
   "execution_count": 7,
   "metadata": {
    "id": "-V_jpa6I50vX"
   },
   "outputs": [],
   "source": [
    "import random\n",
    "import numpy as np\n",
    "from torchvision import datasets, transforms\n",
    "import time"
   ]
  },
  {
   "cell_type": "code",
   "execution_count": 8,
   "metadata": {
    "id": "TKZbKbN350vY",
    "outputId": "f3e2b458-bccb-40a1-fd51-d60dfc042496"
   },
   "outputs": [
    {
     "name": "stdout",
     "output_type": "stream",
     "text": [
      "--2022-11-19 22:06:05--  https://s3.amazonaws.com/img-datasets/mnist.npz\n",
      "Resolving s3.amazonaws.com (s3.amazonaws.com)... 52.217.162.64, 52.217.89.70, 52.217.165.24, ...\n",
      "Connecting to s3.amazonaws.com (s3.amazonaws.com)|52.217.162.64|:443... connected.\n",
      "HTTP request sent, awaiting response... 200 OK\n",
      "Length: 11490434 (11M) [application/octet-stream]\n",
      "Saving to: 'mnist.npz'\n",
      "\n",
      "mnist.npz           100%[===================>]  10.96M  8.80MB/s    in 1.2s    \n",
      "\n",
      "2022-11-19 22:06:07 (8.80 MB/s) - 'mnist.npz' saved [11490434/11490434]\n",
      "\n"
     ]
    }
   ],
   "source": [
    "!wget -O mnist.npz https://s3.amazonaws.com/img-datasets/mnist.npz"
   ]
  },
  {
   "cell_type": "code",
   "execution_count": 9,
   "metadata": {
    "id": "81NrqsmV50vZ"
   },
   "outputs": [],
   "source": [
    "# Let's read the mnist dataset\n",
    "\n",
    "def load_mnist(path='mnist.npz'):\n",
    "    with np.load(path) as f:\n",
    "        x_train, _y_train = f['x_train'], f['y_train']\n",
    "        x_test, _y_test = f['x_test'], f['y_test']\n",
    "\n",
    "    x_train = x_train.reshape(-1, 28 * 28) / 255.\n",
    "    x_test = x_test.reshape(-1, 28 * 28) / 255.\n",
    "\n",
    "    y_train = np.zeros((_y_train.shape[0], 10))\n",
    "    y_train[np.arange(_y_train.shape[0]), _y_train] = 1\n",
    "\n",
    "    y_test = np.zeros((_y_test.shape[0], 10))\n",
    "    y_test[np.arange(_y_test.shape[0]), _y_test] = 1\n",
    "\n",
    "    return (x_train, y_train), (x_test, y_test)\n",
    "\n",
    "(x_train, y_train), (x_test, y_test) = load_mnist()"
   ]
  },
  {
   "cell_type": "code",
   "execution_count": 10,
   "metadata": {},
   "outputs": [],
   "source": [
    "def softmax(z):\n",
    "    # Stable version of the softmax function\n",
    "    exps = np.exp(z - np.max(z))\n",
    "    return exps / np.sum(exps, axis = 0)\n",
    "\n",
    "def sigmoid(z):\n",
    "    return 1.0/(1.0+np.exp(-z))\n",
    "\n",
    "def sigmoid_prime(z):\n",
    "    # Derivative of the sigmoid\n",
    "    return sigmoid(z)*(1-sigmoid(z))"
   ]
  },
  {
   "cell_type": "code",
   "execution_count": 11,
   "metadata": {
    "id": "zj0tXIf250vZ"
   },
   "outputs": [],
   "source": [
    "class Network(object):\n",
    "    def __init__(self, sizes):\n",
    "        # initialize biases and weights with random normal distr.\n",
    "        # weights are indexed by target node first\n",
    "        self.num_layers = len(sizes)\n",
    "        self.sizes = sizes\n",
    "        self.biases = [np.random.randn(y, 1) for y in sizes[1:]]\n",
    "        self.weights = [np.random.randn(y, x) for x, y in zip(sizes[:-1], sizes[1:])]\n",
    "        \n",
    "    def predict(self, a):\n",
    "        # Run the network on a batch\n",
    "        a = a.T\n",
    "        for l in range(self.num_layers - 1):\n",
    "            b = self.biases[l]\n",
    "            w = self.weights[l]\n",
    "            if (l != self.num_layers - 2):\n",
    "                a = sigmoid(np.matmul(w, a) + b)\n",
    "            else:\n",
    "                a = softmax(np.matmul(w, a) + b)\n",
    "        return a\n",
    "    \n",
    "    def update_mini_batch(self, mini_batch, eta):\n",
    "        # Update networks weights and biases by applying a single step\n",
    "        # of gradient descent using backpropagation to compute the gradient.\n",
    "        # The gradient is computed for a mini_batch which is as in tensorflow API.\n",
    "        # eta is the learning rate      \n",
    "        nabla_b, nabla_w = self.backprop(mini_batch[0].T,mini_batch[1].T)\n",
    "            \n",
    "        self.weights = [w-(eta/len(mini_batch[0]))*nw \n",
    "                        for w, nw in zip(self.weights, nabla_w)]\n",
    "        self.biases = [b-(eta/len(mini_batch[0]))*nb \n",
    "                       for b, nb in zip(self.biases, nabla_b)]\n",
    "        \n",
    "    def backprop(self, x, y):\n",
    "        # For a single input (x,y) return a pair of lists.\n",
    "        # First contains gradients over biases, second over weights.\n",
    "        delta_nabla_b = [np.zeros_like(p) for p in self.biases]\n",
    "        delta_nabla_w = [np.zeros_like(p) for p in self.weights]\n",
    "        \n",
    "        z_list = []\n",
    "        a = x\n",
    "        a_list = [a]\n",
    "        for l in range(self.num_layers - 1):\n",
    "            b = self.biases[l]\n",
    "            w = self.weights[l]\n",
    "            z = np.dot(w, a) + b\n",
    "            z_list.append(z)\n",
    "            if (l != self.num_layers - 2):\n",
    "                a = sigmoid(z)\n",
    "            else:\n",
    "                a = softmax(z)\n",
    "            a_list.append(a)\n",
    "        \n",
    "        # backward pass <- both steps at once\n",
    "        dZ = a - y\n",
    "        for l in reversed(range(self.num_layers - 1)):\n",
    "            dW = np.dot(dZ,  a_list[l].T)\n",
    "            db = np.sum(dZ, axis = 1, keepdims = True)\n",
    "            delta_nabla_b[l] = db\n",
    "            delta_nabla_w[l] = dW\n",
    "            if l != 0:\n",
    "                dA = np.matmul(self.weights[l].T, dZ)\n",
    "                dZ = np.multiply(dA, sigmoid_prime(z_list[l - 1]))\n",
    "                \n",
    "        return delta_nabla_b, delta_nabla_w\n",
    "\n",
    "    def evaluate(self, test_data):\n",
    "        # Count the number of correct answers for test_data\n",
    "        pred = np.argmax(self.predict(test_data[0]),axis=0)\n",
    "        corr = np.argmax(test_data[1],axis=1).T\n",
    "        return np.mean(pred == corr)\n",
    "    \n",
    "    def cost_derivative(self, output_activations, y):\n",
    "        return (output_activations-y) \n",
    "    \n",
    "    def SGD(self, training_data, epochs, mini_batch_size, eta, test_data=None):\n",
    "        x_train, y_train = training_data\n",
    "        if test_data:\n",
    "            x_test, y_test = test_data\n",
    "        for j in range(epochs):\n",
    "            for i in range(x_train.shape[0] // mini_batch_size):\n",
    "                x_mini_batch = x_train[(mini_batch_size*i):(mini_batch_size*(i+1))]\n",
    "                y_mini_batch = y_train[(mini_batch_size*i):(mini_batch_size*(i+1))]\n",
    "                self.update_mini_batch((x_mini_batch, y_mini_batch), eta)\n",
    "            if test_data:\n",
    "                print(\"Epoch: {0}, Accuracy: {1}\".format(j, self.evaluate((x_test, y_test))))\n",
    "            else:\n",
    "                print(\"Epoch: {0}\".format(j))"
   ]
  },
  {
   "cell_type": "code",
   "execution_count": 13,
   "metadata": {
    "id": "K2CxUbfm50vZ"
   },
   "outputs": [],
   "source": [
    "class NetworkWithCheckpointing(Network):\n",
    "\n",
    "    def __init__(self, sizes, every_nth_layer: int = 0, *args, **kwargs):\n",
    "        super().__init__(sizes, *args, **kwargs)\n",
    "        self.every_nth_layer = every_nth_layer\n",
    "\n",
    "    def forward_between_checkpoints(self, a, idx_start, idx_end):\n",
    "        z_list = []\n",
    "        a_list = [a]\n",
    "        for l in range(idx_start, idx_end):\n",
    "            b = self.biases[l]\n",
    "            w = self.weights[l]\n",
    "            z = np.dot(w, a) + b\n",
    "            if (l != self.num_layers - 2):\n",
    "                a = sigmoid(z)\n",
    "            else:\n",
    "                a = softmax(z)\n",
    "            a_list.append(a)\n",
    "            z_list.append(z)\n",
    "        return a_list, z_list\n",
    "    \n",
    "    def backprop(self, x, y):\n",
    "        # For a single input (x,y) return a pair of lists.\n",
    "        # First contains gradients over biases, second over weights.\n",
    "        delta_nabla_b = [np.zeros_like(p) for p in self.biases]\n",
    "        delta_nabla_w = [np.zeros_like(p) for p in self.weights]\n",
    "        \n",
    "        a = x\n",
    "        checkpoint_list = [a]\n",
    "        for l in range(self.num_layers - 1):\n",
    "            b = self.biases[l]\n",
    "            w = self.weights[l]\n",
    "            z = np.dot(w, a) + b\n",
    "            if (l != self.num_layers - 2):\n",
    "                a = sigmoid(z)\n",
    "            else:\n",
    "                a = softmax(z)\n",
    "            if (((l + 1) % self.every_nth_layer == 0)):\n",
    "                checkpoint_list.append(a)\n",
    "        \n",
    "        # backward pass <- both steps at once\n",
    "        dA = 0\n",
    "        dZ = 0\n",
    "        for l in reversed(range(len(checkpoint_list))):\n",
    "            if ((l + 1) * self.every_nth_layer < self.num_layers - 1):\n",
    "                start = l * self.every_nth_layer\n",
    "                stop = (l + 1) * self.every_nth_layer\n",
    "                a_list, z_list = self.forward_between_checkpoints(checkpoint_list[l],\n",
    "                                            start, stop)\n",
    "                for k in reversed(range(start, stop)):\n",
    "                    dA = np.matmul(self.weights[k + 1].T, dZ)\n",
    "                    dZ = np.multiply(dA, sigmoid_prime(z_list[k - start]))\n",
    "                    dW = np.dot(dZ,  a_list[k - start].T)\n",
    "                    db = np.sum(dZ, axis = 1, keepdims = True)\n",
    "                    delta_nabla_b[k] = db\n",
    "                    delta_nabla_w[k] = dW\n",
    "            else:\n",
    "                start = l * self.every_nth_layer\n",
    "                stop = self.num_layers - 1\n",
    "                a_list, z_list = self.forward_between_checkpoints(checkpoint_list[l],\n",
    "                                            start, stop)\n",
    "                dZ = a_list[-1] - y\n",
    "                for k in reversed(range(start, stop)):\n",
    "                    dW = np.dot(dZ,  a_list[k - start].T)\n",
    "                    db = np.sum(dZ, axis = 1, keepdims = True)\n",
    "                    delta_nabla_b[k] = db\n",
    "                    delta_nabla_w[k] = dW\n",
    "                    if (k - start - 1 >= 0):\n",
    "                        dA = np.matmul(self.weights[k].T, dZ)\n",
    "                        dZ = np.multiply(dA, sigmoid_prime(z_list[k - start - 1]))\n",
    "        return delta_nabla_b, delta_nabla_w\n"
   ]
  },
  {
   "cell_type": "code",
   "execution_count": 15,
   "metadata": {},
   "outputs": [
    {
     "name": "stdout",
     "output_type": "stream",
     "text": [
      "Epoch: 0, Accuracy: 0.663\n",
      "Epoch: 1, Accuracy: 0.7486\n",
      "Epoch: 2, Accuracy: 0.7864\n",
      "Epoch: 3, Accuracy: 0.8115\n",
      "Epoch: 4, Accuracy: 0.8284\n",
      "Epoch: 5, Accuracy: 0.845\n",
      "Epoch: 6, Accuracy: 0.8554\n",
      "Epoch: 7, Accuracy: 0.8641\n",
      "Epoch: 8, Accuracy: 0.8701\n",
      "Epoch: 9, Accuracy: 0.8738\n",
      "Epoch: 10, Accuracy: 0.8774\n",
      "Epoch: 11, Accuracy: 0.8811\n",
      "Epoch: 12, Accuracy: 0.8841\n",
      "Epoch: 13, Accuracy: 0.8862\n",
      "Epoch: 14, Accuracy: 0.8886\n",
      "Epoch: 15, Accuracy: 0.892\n",
      "Epoch: 16, Accuracy: 0.8947\n",
      "Epoch: 17, Accuracy: 0.8965\n",
      "Epoch: 18, Accuracy: 0.8981\n",
      "Epoch: 19, Accuracy: 0.8994\n",
      "Epoch: 20, Accuracy: 0.9011\n",
      "Epoch: 21, Accuracy: 0.9027\n"
     ]
    },
    {
     "ename": "KeyboardInterrupt",
     "evalue": "",
     "output_type": "error",
     "traceback": [
      "\u001b[0;31m---------------------------------------------------------------------------\u001b[0m",
      "\u001b[0;31mKeyboardInterrupt\u001b[0m                         Traceback (most recent call last)",
      "Cell \u001b[0;32mIn [15], line 3\u001b[0m\n\u001b[1;32m      1\u001b[0m network \u001b[38;5;241m=\u001b[39m NetworkWithCheckpointing([\u001b[38;5;241m784\u001b[39m,\u001b[38;5;241m100\u001b[39m,\u001b[38;5;241m100\u001b[39m, \u001b[38;5;241m100\u001b[39m, \u001b[38;5;241m100\u001b[39m, \u001b[38;5;241m100\u001b[39m, \u001b[38;5;241m10\u001b[39m], \u001b[38;5;241m2\u001b[39m)\n\u001b[1;32m      2\u001b[0m start \u001b[38;5;241m=\u001b[39m time\u001b[38;5;241m.\u001b[39mtime()\n\u001b[0;32m----> 3\u001b[0m \u001b[43mnetwork\u001b[49m\u001b[38;5;241;43m.\u001b[39;49m\u001b[43mSGD\u001b[49m\u001b[43m(\u001b[49m\u001b[43m(\u001b[49m\u001b[43mx_train\u001b[49m\u001b[43m,\u001b[49m\u001b[43m \u001b[49m\u001b[43my_train\u001b[49m\u001b[43m)\u001b[49m\u001b[43m,\u001b[49m\u001b[43m \u001b[49m\u001b[43mepochs\u001b[49m\u001b[38;5;241;43m=\u001b[39;49m\u001b[38;5;241;43m50\u001b[39;49m\u001b[43m,\u001b[49m\u001b[43m \u001b[49m\u001b[43mmini_batch_size\u001b[49m\u001b[38;5;241;43m=\u001b[39;49m\u001b[38;5;241;43m100\u001b[39;49m\u001b[43m,\u001b[49m\u001b[43m \u001b[49m\u001b[43meta\u001b[49m\u001b[38;5;241;43m=\u001b[39;49m\u001b[38;5;241;43m0.1\u001b[39;49m\u001b[43m,\u001b[49m\u001b[43m \u001b[49m\u001b[43mtest_data\u001b[49m\u001b[38;5;241;43m=\u001b[39;49m\u001b[43m(\u001b[49m\u001b[43mx_test\u001b[49m\u001b[43m,\u001b[49m\u001b[43m \u001b[49m\u001b[43my_test\u001b[49m\u001b[43m)\u001b[49m\u001b[43m)\u001b[49m\n\u001b[1;32m      4\u001b[0m end \u001b[38;5;241m=\u001b[39m time\u001b[38;5;241m.\u001b[39mtime()\n\u001b[1;32m      5\u001b[0m \u001b[38;5;28mprint\u001b[39m(end \u001b[38;5;241m-\u001b[39m start)\n",
      "Cell \u001b[0;32mIn [11], line 84\u001b[0m, in \u001b[0;36mNetwork.SGD\u001b[0;34m(self, training_data, epochs, mini_batch_size, eta, test_data)\u001b[0m\n\u001b[1;32m     82\u001b[0m     x_mini_batch \u001b[38;5;241m=\u001b[39m x_train[(mini_batch_size\u001b[38;5;241m*\u001b[39mi):(mini_batch_size\u001b[38;5;241m*\u001b[39m(i\u001b[38;5;241m+\u001b[39m\u001b[38;5;241m1\u001b[39m))]\n\u001b[1;32m     83\u001b[0m     y_mini_batch \u001b[38;5;241m=\u001b[39m y_train[(mini_batch_size\u001b[38;5;241m*\u001b[39mi):(mini_batch_size\u001b[38;5;241m*\u001b[39m(i\u001b[38;5;241m+\u001b[39m\u001b[38;5;241m1\u001b[39m))]\n\u001b[0;32m---> 84\u001b[0m     \u001b[38;5;28;43mself\u001b[39;49m\u001b[38;5;241;43m.\u001b[39;49m\u001b[43mupdate_mini_batch\u001b[49m\u001b[43m(\u001b[49m\u001b[43m(\u001b[49m\u001b[43mx_mini_batch\u001b[49m\u001b[43m,\u001b[49m\u001b[43m \u001b[49m\u001b[43my_mini_batch\u001b[49m\u001b[43m)\u001b[49m\u001b[43m,\u001b[49m\u001b[43m \u001b[49m\u001b[43meta\u001b[49m\u001b[43m)\u001b[49m\n\u001b[1;32m     85\u001b[0m \u001b[38;5;28;01mif\u001b[39;00m test_data:\n\u001b[1;32m     86\u001b[0m     \u001b[38;5;28mprint\u001b[39m(\u001b[38;5;124m\"\u001b[39m\u001b[38;5;124mEpoch: \u001b[39m\u001b[38;5;132;01m{0}\u001b[39;00m\u001b[38;5;124m, Accuracy: \u001b[39m\u001b[38;5;132;01m{1}\u001b[39;00m\u001b[38;5;124m\"\u001b[39m\u001b[38;5;241m.\u001b[39mformat(j, \u001b[38;5;28mself\u001b[39m\u001b[38;5;241m.\u001b[39mevaluate((x_test, y_test))))\n",
      "Cell \u001b[0;32mIn [11], line 27\u001b[0m, in \u001b[0;36mNetwork.update_mini_batch\u001b[0;34m(self, mini_batch, eta)\u001b[0m\n\u001b[1;32m     22\u001b[0m \u001b[38;5;28;01mdef\u001b[39;00m \u001b[38;5;21mupdate_mini_batch\u001b[39m(\u001b[38;5;28mself\u001b[39m, mini_batch, eta):\n\u001b[1;32m     23\u001b[0m     \u001b[38;5;66;03m# Update networks weights and biases by applying a single step\u001b[39;00m\n\u001b[1;32m     24\u001b[0m     \u001b[38;5;66;03m# of gradient descent using backpropagation to compute the gradient.\u001b[39;00m\n\u001b[1;32m     25\u001b[0m     \u001b[38;5;66;03m# The gradient is computed for a mini_batch which is as in tensorflow API.\u001b[39;00m\n\u001b[1;32m     26\u001b[0m     \u001b[38;5;66;03m# eta is the learning rate      \u001b[39;00m\n\u001b[0;32m---> 27\u001b[0m     nabla_b, nabla_w \u001b[38;5;241m=\u001b[39m \u001b[38;5;28;43mself\u001b[39;49m\u001b[38;5;241;43m.\u001b[39;49m\u001b[43mbackprop\u001b[49m\u001b[43m(\u001b[49m\u001b[43mmini_batch\u001b[49m\u001b[43m[\u001b[49m\u001b[38;5;241;43m0\u001b[39;49m\u001b[43m]\u001b[49m\u001b[38;5;241;43m.\u001b[39;49m\u001b[43mT\u001b[49m\u001b[43m,\u001b[49m\u001b[43mmini_batch\u001b[49m\u001b[43m[\u001b[49m\u001b[38;5;241;43m1\u001b[39;49m\u001b[43m]\u001b[49m\u001b[38;5;241;43m.\u001b[39;49m\u001b[43mT\u001b[49m\u001b[43m)\u001b[49m\n\u001b[1;32m     29\u001b[0m     \u001b[38;5;28mself\u001b[39m\u001b[38;5;241m.\u001b[39mweights \u001b[38;5;241m=\u001b[39m [w\u001b[38;5;241m-\u001b[39m(eta\u001b[38;5;241m/\u001b[39m\u001b[38;5;28mlen\u001b[39m(mini_batch[\u001b[38;5;241m0\u001b[39m]))\u001b[38;5;241m*\u001b[39mnw \n\u001b[1;32m     30\u001b[0m                     \u001b[38;5;28;01mfor\u001b[39;00m w, nw \u001b[38;5;129;01min\u001b[39;00m \u001b[38;5;28mzip\u001b[39m(\u001b[38;5;28mself\u001b[39m\u001b[38;5;241m.\u001b[39mweights, nabla_w)]\n\u001b[1;32m     31\u001b[0m     \u001b[38;5;28mself\u001b[39m\u001b[38;5;241m.\u001b[39mbiases \u001b[38;5;241m=\u001b[39m [b\u001b[38;5;241m-\u001b[39m(eta\u001b[38;5;241m/\u001b[39m\u001b[38;5;28mlen\u001b[39m(mini_batch[\u001b[38;5;241m0\u001b[39m]))\u001b[38;5;241m*\u001b[39mnb \n\u001b[1;32m     32\u001b[0m                    \u001b[38;5;28;01mfor\u001b[39;00m b, nb \u001b[38;5;129;01min\u001b[39;00m \u001b[38;5;28mzip\u001b[39m(\u001b[38;5;28mself\u001b[39m\u001b[38;5;241m.\u001b[39mbiases, nabla_b)]\n",
      "Cell \u001b[0;32mIn [13], line 51\u001b[0m, in \u001b[0;36mNetworkWithCheckpointing.backprop\u001b[0;34m(self, x, y)\u001b[0m\n\u001b[1;32m     48\u001b[0m a_list, z_list \u001b[38;5;241m=\u001b[39m \u001b[38;5;28mself\u001b[39m\u001b[38;5;241m.\u001b[39mforward_between_checkpoints(checkpoint_list[l],\n\u001b[1;32m     49\u001b[0m                             start, stop)\n\u001b[1;32m     50\u001b[0m \u001b[38;5;28;01mfor\u001b[39;00m k \u001b[38;5;129;01min\u001b[39;00m \u001b[38;5;28mreversed\u001b[39m(\u001b[38;5;28mrange\u001b[39m(start, stop)):\n\u001b[0;32m---> 51\u001b[0m     dA \u001b[38;5;241m=\u001b[39m \u001b[43mnp\u001b[49m\u001b[38;5;241;43m.\u001b[39;49m\u001b[43mmatmul\u001b[49m\u001b[43m(\u001b[49m\u001b[38;5;28;43mself\u001b[39;49m\u001b[38;5;241;43m.\u001b[39;49m\u001b[43mweights\u001b[49m\u001b[43m[\u001b[49m\u001b[43mk\u001b[49m\u001b[43m \u001b[49m\u001b[38;5;241;43m+\u001b[39;49m\u001b[43m \u001b[49m\u001b[38;5;241;43m1\u001b[39;49m\u001b[43m]\u001b[49m\u001b[38;5;241;43m.\u001b[39;49m\u001b[43mT\u001b[49m\u001b[43m,\u001b[49m\u001b[43m \u001b[49m\u001b[43mdZ\u001b[49m\u001b[43m)\u001b[49m\n\u001b[1;32m     52\u001b[0m     dZ \u001b[38;5;241m=\u001b[39m np\u001b[38;5;241m.\u001b[39mmultiply(dA, sigmoid_prime(z_list[k \u001b[38;5;241m-\u001b[39m start]))\n\u001b[1;32m     53\u001b[0m     dW \u001b[38;5;241m=\u001b[39m np\u001b[38;5;241m.\u001b[39mdot(dZ,  a_list[k \u001b[38;5;241m-\u001b[39m start]\u001b[38;5;241m.\u001b[39mT)\n",
      "\u001b[0;31mKeyboardInterrupt\u001b[0m: "
     ]
    }
   ],
   "source": [
    "network = NetworkWithCheckpointing([784,100,100, 100, 100, 100, 10], 2)\n",
    "start = time.time()\n",
    "network.SGD((x_train, y_train), epochs=50, mini_batch_size=100, eta=0.1, test_data=(x_test, y_test))\n",
    "end = time.time()\n",
    "print(end - start)"
   ]
  },
  {
   "cell_type": "code",
   "execution_count": 22,
   "metadata": {},
   "outputs": [
    {
     "name": "stdout",
     "output_type": "stream",
     "text": [
      "Epoch: 0, Accuracy: 0.1135\n",
      "Epoch: 1, Accuracy: 0.1009\n",
      "Epoch: 2, Accuracy: 0.101\n",
      "Epoch: 3, Accuracy: 0.0982\n",
      "Epoch: 4, Accuracy: 0.1009\n",
      "Epoch: 5, Accuracy: 0.0958\n",
      "Epoch: 6, Accuracy: 0.1135\n",
      "Epoch: 7, Accuracy: 0.1028\n",
      "Epoch: 8, Accuracy: 0.0974\n",
      "Epoch: 9, Accuracy: 0.0974\n",
      "Epoch: 10, Accuracy: 0.0958\n",
      "Epoch: 11, Accuracy: 0.1135\n",
      "Epoch: 12, Accuracy: 0.101\n",
      "Epoch: 13, Accuracy: 0.1135\n",
      "Epoch: 14, Accuracy: 0.098\n",
      "Epoch: 15, Accuracy: 0.1009\n",
      "Epoch: 16, Accuracy: 0.098\n",
      "Epoch: 17, Accuracy: 0.101\n",
      "Epoch: 18, Accuracy: 0.0974\n",
      "Epoch: 19, Accuracy: 0.0958\n",
      "Epoch: 20, Accuracy: 0.101\n",
      "Epoch: 21, Accuracy: 0.1009\n",
      "Epoch: 22, Accuracy: 0.0982\n",
      "Epoch: 23, Accuracy: 0.0974\n",
      "Epoch: 24, Accuracy: 0.101\n",
      "Epoch: 25, Accuracy: 0.1145\n",
      "Epoch: 26, Accuracy: 0.101\n",
      "Epoch: 27, Accuracy: 0.098\n",
      "Epoch: 28, Accuracy: 0.0974\n",
      "Epoch: 29, Accuracy: 0.1323\n",
      "Epoch: 30, Accuracy: 0.2629\n",
      "Epoch: 31, Accuracy: 0.2892\n",
      "Epoch: 32, Accuracy: 0.5994\n",
      "Epoch: 33, Accuracy: 0.8273\n",
      "Epoch: 34, Accuracy: 0.9\n",
      "Epoch: 35, Accuracy: 0.9064\n",
      "Epoch: 36, Accuracy: 0.9279\n",
      "Epoch: 37, Accuracy: 0.9305\n",
      "Epoch: 38, Accuracy: 0.9336\n",
      "Epoch: 39, Accuracy: 0.9302\n",
      "Epoch: 40, Accuracy: 0.9431\n",
      "Epoch: 41, Accuracy: 0.945\n",
      "Epoch: 42, Accuracy: 0.9436\n",
      "Epoch: 43, Accuracy: 0.9446\n",
      "Epoch: 44, Accuracy: 0.9504\n",
      "Epoch: 45, Accuracy: 0.9545\n",
      "Epoch: 46, Accuracy: 0.9549\n",
      "Epoch: 47, Accuracy: 0.9542\n",
      "Epoch: 48, Accuracy: 0.9555\n",
      "Epoch: 49, Accuracy: 0.9552\n",
      "136.2890179157257\n"
     ]
    }
   ],
   "source": [
    "network = Network([784,100, 100, 100, 100 ,10])\n",
    "start = time.time()\n",
    "network.SGD((x_train, y_train), epochs=50, mini_batch_size=100, eta=3.0, test_data=(x_test, y_test))\n",
    "end = time.time()\n",
    "print(end - start)"
   ]
  },
  {
   "cell_type": "markdown",
   "metadata": {},
   "source": [
    "# Analysis\n",
    "\n",
    "For the normal network with L layers (including input and output layers), we store:\n",
    "1. L-1 matrices of weights\n",
    "2. L-1 vectors of biases\n",
    "3. L matrices of outputs of activation functions\n",
    "4. L-1 matrices of inputs of activation functions\n",
    "\n",
    "For a network with checkpointing every n-th layer we store:\n",
    "1. L-1 matrices of weights\n",
    "2. L-1 vectors of biases\n",
    "3. O(L/n) matrices of outputs of activation functions\n",
    "4. During backpropagation we additionally store O(n) inputs and outputs of the activation functions (calculated with forward_between_checkpoints)\n",
    "\n",
    "Additionally, with checkpointing, we have to recalculate activations of O(L(1 - 1/n)) layers."
   ]
  },
  {
   "cell_type": "code",
   "execution_count": null,
   "metadata": {},
   "outputs": [],
   "source": []
  }
 ],
 "metadata": {
  "colab": {
   "provenance": [
    {
     "file_id": "https://github.com/mim-uw/dnn-2022-23/blob/master/hw1-checkpoints-student.ipynb",
     "timestamp": 1667485886836
    }
   ]
  },
  "kernelspec": {
   "display_name": "Python 3 (ipykernel)",
   "language": "python",
   "name": "python3"
  },
  "language_info": {
   "codemirror_mode": {
    "name": "ipython",
    "version": 3
   },
   "file_extension": ".py",
   "mimetype": "text/x-python",
   "name": "python",
   "nbconvert_exporter": "python",
   "pygments_lexer": "ipython3",
   "version": "3.9.15"
  }
 },
 "nbformat": 4,
 "nbformat_minor": 1
}
